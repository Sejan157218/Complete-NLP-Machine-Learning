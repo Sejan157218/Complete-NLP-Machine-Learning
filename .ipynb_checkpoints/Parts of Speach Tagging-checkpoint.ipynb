{
 "cells": [
  {
   "cell_type": "code",
   "execution_count": 1,
   "id": "eb9b46f9",
   "metadata": {},
   "outputs": [],
   "source": [
    "paragraph = \"\"\"The name of my nation is Bangladesh. Bangladesh is a little nation with a sizable population. It is a South Asian nation that is moderately developed. We have a thriving economy that is growing. It is 147,570 square kilometres in size. But there are 164 million people living there. More than the area, that.\n",
    "\n",
    "Yet, the nation is still quite picturesque and tranquil. People of Bangladesh are really amicable with each other. This nation’s history of independence is illustrious. After a bloody battle involving nine mothers, we gained our freedom from Pakistan in 1971. In that genocide, more than 3 million Bangladeshis gave their lives.\n",
    "\n",
    "Nonetheless, we were still able to achieve our freedom. After gaining its freedom, the nation experienced several hardships. Yet, it does so quite well. One of the nicest places to live in South Asia right now is Bangladesh. There are so many stunning places to see in this nation.\n",
    "\n",
    "We have Cox’s Bazaar, which is the world’s longest sea beach. One of the largest mangrove forests in the world and a fantastic source of beauty is the Sundarban. There is a Royal Bengal Tiger to be found. I have a great passion for my nation. Being born here is such a blessing.\"\"\" "
   ]
  },
  {
   "cell_type": "code",
   "execution_count": 2,
   "id": "bc63f466",
   "metadata": {},
   "outputs": [],
   "source": [
    "from nltk.tokenize import sent_tokenize"
   ]
  },
  {
   "cell_type": "code",
   "execution_count": 3,
   "id": "9e49479d",
   "metadata": {},
   "outputs": [
    {
     "data": {
      "text/plain": [
       "['The name of my nation is Bangladesh.',\n",
       " 'Bangladesh is a little nation with a sizable population.',\n",
       " 'It is a South Asian nation that is moderately developed.',\n",
       " 'We have a thriving economy that is growing.',\n",
       " 'It is 147,570 square kilometres in size.',\n",
       " 'But there are 164 million people living there.',\n",
       " 'More than the area, that.',\n",
       " 'Yet, the nation is still quite picturesque and tranquil.',\n",
       " 'People of Bangladesh are really amicable with each other.',\n",
       " 'This nation’s history of independence is illustrious.',\n",
       " 'After a bloody battle involving nine mothers, we gained our freedom from Pakistan in 1971.',\n",
       " 'In that genocide, more than 3 million Bangladeshis gave their lives.',\n",
       " 'Nonetheless, we were still able to achieve our freedom.',\n",
       " 'After gaining its freedom, the nation experienced several hardships.',\n",
       " 'Yet, it does so quite well.',\n",
       " 'One of the nicest places to live in South Asia right now is Bangladesh.',\n",
       " 'There are so many stunning places to see in this nation.',\n",
       " 'We have Cox’s Bazaar, which is the world’s longest sea beach.',\n",
       " 'One of the largest mangrove forests in the world and a fantastic source of beauty is the Sundarban.',\n",
       " 'There is a Royal Bengal Tiger to be found.',\n",
       " 'I have a great passion for my nation.',\n",
       " 'Being born here is such a blessing.']"
      ]
     },
     "execution_count": 3,
     "metadata": {},
     "output_type": "execute_result"
    }
   ],
   "source": [
    "sentences = sent_tokenize(paragraph)\n",
    "sentences"
   ]
  },
  {
   "cell_type": "code",
   "execution_count": 4,
   "id": "842518c7",
   "metadata": {},
   "outputs": [],
   "source": [
    "from nltk.corpus import stopwords"
   ]
  },
  {
   "cell_type": "code",
   "execution_count": 9,
   "id": "e5228811",
   "metadata": {},
   "outputs": [
    {
     "name": "stderr",
     "output_type": "stream",
     "text": [
      "[nltk_data] Downloading package averaged_perceptron_tagger to\n",
      "[nltk_data]     /home/dev/nltk_data...\n",
      "[nltk_data]   Unzipping taggers/averaged_perceptron_tagger.zip.\n"
     ]
    },
    {
     "data": {
      "text/plain": [
       "True"
      ]
     },
     "execution_count": 9,
     "metadata": {},
     "output_type": "execute_result"
    }
   ],
   "source": [
    "import nltk\n",
    "nltk.download('averaged_perceptron_tagger')"
   ]
  },
  {
   "cell_type": "code",
   "execution_count": 10,
   "id": "1c1f49c6",
   "metadata": {},
   "outputs": [],
   "source": [
    "set_stopwords = set(stopwords.words('english'))"
   ]
  },
  {
   "cell_type": "code",
   "execution_count": 11,
   "id": "3472afe6",
   "metadata": {},
   "outputs": [],
   "source": [
    "len_sentence = len(sentences)"
   ]
  },
  {
   "cell_type": "code",
   "execution_count": 12,
   "id": "92c2039f",
   "metadata": {},
   "outputs": [
    {
     "name": "stdout",
     "output_type": "stream",
     "text": [
      "[('The', 'DT'), ('name', 'NN'), ('nation', 'NN'), ('Bangladesh', 'NNP'), ('.', '.')]\n",
      "[('Bangladesh', 'NNP'), ('little', 'JJ'), ('nation', 'NN'), ('sizable', 'JJ'), ('population', 'NN'), ('.', '.')]\n",
      "[('It', 'PRP'), ('South', 'NNP'), ('Asian', 'JJ'), ('nation', 'NN'), ('moderately', 'RB'), ('developed', 'VBD'), ('.', '.')]\n",
      "[('We', 'PRP'), ('thriving', 'VBG'), ('economy', 'NN'), ('growing', 'VBG'), ('.', '.')]\n",
      "[('It', 'PRP'), ('147,570', 'CD'), ('square', 'JJ'), ('kilometres', 'NNS'), ('size', 'NN'), ('.', '.')]\n",
      "[('But', 'CC'), ('164', 'CD'), ('million', 'CD'), ('people', 'NNS'), ('living', 'VBG'), ('.', '.')]\n",
      "[('More', 'RBR'), ('area', 'NN'), (',', ','), ('.', '.')]\n",
      "[('Yet', 'RB'), (',', ','), ('nation', 'NN'), ('still', 'RB'), ('quite', 'RB'), ('picturesque', 'JJ'), ('tranquil', 'NN'), ('.', '.')]\n",
      "[('People', 'NNS'), ('Bangladesh', 'NNP'), ('really', 'RB'), ('amicable', 'JJ'), ('.', '.')]\n",
      "[('This', 'DT'), ('nation', 'NN'), ('’', 'VBZ'), ('history', 'NN'), ('independence', 'NN'), ('illustrious', 'JJ'), ('.', '.')]\n",
      "[('After', 'IN'), ('bloody', 'JJ'), ('battle', 'NN'), ('involving', 'VBG'), ('nine', 'CD'), ('mothers', 'NNS'), (',', ','), ('gained', 'VBD'), ('freedom', 'NN'), ('Pakistan', 'NNP'), ('1971', 'CD'), ('.', '.')]\n",
      "[('In', 'IN'), ('genocide', 'NN'), (',', ','), ('3', 'CD'), ('million', 'CD'), ('Bangladeshis', 'NNP'), ('gave', 'VBD'), ('lives', 'NNS'), ('.', '.')]\n",
      "[('Nonetheless', 'RB'), (',', ','), ('still', 'RB'), ('able', 'JJ'), ('achieve', 'NN'), ('freedom', 'NN'), ('.', '.')]\n",
      "[('After', 'IN'), ('gaining', 'VBG'), ('freedom', 'NN'), (',', ','), ('nation', 'NN'), ('experienced', 'VBD'), ('several', 'JJ'), ('hardships', 'NNS'), ('.', '.')]\n",
      "[('Yet', 'RB'), (',', ','), ('quite', 'RB'), ('well', 'RB'), ('.', '.')]\n",
      "[('One', 'CD'), ('nicest', 'JJS'), ('places', 'NNS'), ('live', 'VBP'), ('South', 'NNP'), ('Asia', 'NNP'), ('right', 'JJ'), ('Bangladesh', 'NNP'), ('.', '.')]\n",
      "[('There', 'EX'), ('many', 'JJ'), ('stunning', 'JJ'), ('places', 'NNS'), ('see', 'VBP'), ('nation', 'NN'), ('.', '.')]\n",
      "[('We', 'PRP'), ('Cox', 'NNP'), ('’', 'NNP'), ('Bazaar', 'NNP'), (',', ','), ('world', 'NN'), ('’', 'NN'), ('longest', 'JJS'), ('sea', 'NN'), ('beach', 'NN'), ('.', '.')]\n",
      "[('One', 'CD'), ('largest', 'JJS'), ('mangrove', 'NN'), ('forests', 'VBZ'), ('world', 'NN'), ('fantastic', 'JJ'), ('source', 'NN'), ('beauty', 'NN'), ('Sundarban', 'NNP'), ('.', '.')]\n",
      "[('There', 'EX'), ('Royal', 'NNP'), ('Bengal', 'NNP'), ('Tiger', 'NNP'), ('found', 'VBD'), ('.', '.')]\n",
      "[('I', 'PRP'), ('great', 'JJ'), ('passion', 'NN'), ('nation', 'NN'), ('.', '.')]\n",
      "[('Being', 'VBG'), ('born', 'VBN'), ('blessing', 'NN'), ('.', '.')]\n"
     ]
    }
   ],
   "source": [
    "from nltk.tokenize import word_tokenize\n",
    "\n",
    "for i in range(len_sentence):\n",
    "    words = nltk.word_tokenize(sentences[i])\n",
    "    words = [word for word in words if word not in set_stopwords]\n",
    "    print(nltk.pos_tag(words))"
   ]
  },
  {
   "cell_type": "code",
   "execution_count": null,
   "id": "da5904e4",
   "metadata": {},
   "outputs": [],
   "source": []
  }
 ],
 "metadata": {
  "kernelspec": {
   "display_name": "Python 3 (ipykernel)",
   "language": "python",
   "name": "python3"
  },
  "language_info": {
   "codemirror_mode": {
    "name": "ipython",
    "version": 3
   },
   "file_extension": ".py",
   "mimetype": "text/x-python",
   "name": "python",
   "nbconvert_exporter": "python",
   "pygments_lexer": "ipython3",
   "version": "3.11.3"
  }
 },
 "nbformat": 4,
 "nbformat_minor": 5
}
