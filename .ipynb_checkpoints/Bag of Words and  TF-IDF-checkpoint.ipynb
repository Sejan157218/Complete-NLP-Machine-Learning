{
 "cells": [
  {
   "cell_type": "code",
   "execution_count": 1,
   "id": "82ad9229",
   "metadata": {},
   "outputs": [
    {
     "name": "stderr",
     "output_type": "stream",
     "text": [
      "[nltk_data] Downloading package wordnet to /home/dev/nltk_data...\n",
      "[nltk_data]   Package wordnet is already up-to-date!\n",
      "[nltk_data] Downloading package omw-1.4 to /home/dev/nltk_data...\n",
      "[nltk_data]   Package omw-1.4 is already up-to-date!\n"
     ]
    }
   ],
   "source": [
    "import nltk\n",
    "nltk.download('wordnet')\n",
    "nltk.download('omw-1.4')\n",
    "from nltk.stem import WordNetLemmatizer"
   ]
  },
  {
   "cell_type": "code",
   "execution_count": 2,
   "id": "52a6954b",
   "metadata": {},
   "outputs": [],
   "source": [
    "paragraph = \"\"\"Most of Bangladesh is at low elevations and is divided into five physical regions: (I) the Ganges Delta to the Southwest, (II) the Paradelta to the Northwest, (III) the East Central plains and the Sylhet Hills in the Northeast, and (IV) the Chittagong region in the Southeast. Bangladesh is the largest deltaic region in the world. The Ganges Delta is geologically the most recent compared with other deltas. Mangrove forests thrive in the lower delta, which is flooded by fresh tidal waters. The soil base is new alluvium. The Sundarbans to the Southwest is the largest mangrove forest in the world. The Paradelta, like the delta proper, is a plain but its elevations are higher at 100 to 300 feet above sea level. Its soils are varied - silt and sandy clays and old alluvium. It lies between the Ganges and the (Brahmaputra) Jamuna Rivers. The East Central plains, with the Meghna River almost at its centre, consists of plains and active floodplains in which the main rivers, including the Brahmaputra, have altered their channels in the past. At the centre of this plain lies Madhupur Forest, a former site for tiger hunting. To the Northeast is the Meghna depression, part of which is only 10 feet above sea level; during the rainy season it turns into a huge lake, covering most of its 7,250 square kilometer (2,800 square mile) basin. Bangladesh is a riverine country and is criss-crossed by innumerable rivers, rivulets and their tributaries.\"\"\""
   ]
  },
  {
   "cell_type": "code",
   "execution_count": 3,
   "id": "d489f57b",
   "metadata": {},
   "outputs": [
    {
     "data": {
      "text/plain": [
       "'Most of Bangladesh is at low elevations and is divided into five physical regions: (I) the Ganges Delta to the Southwest, (II) the Paradelta to the Northwest, (III) the East Central plains and the Sylhet Hills in the Northeast, and (IV) the Chittagong region in the Southeast. Bangladesh is the largest deltaic region in the world. The Ganges Delta is geologically the most recent compared with other deltas. Mangrove forests thrive in the lower delta, which is flooded by fresh tidal waters. The soil base is new alluvium. The Sundarbans to the Southwest is the largest mangrove forest in the world. The Paradelta, like the delta proper, is a plain but its elevations are higher at 100 to 300 feet above sea level. Its soils are varied - silt and sandy clays and old alluvium. It lies between the Ganges and the (Brahmaputra) Jamuna Rivers. The East Central plains, with the Meghna River almost at its centre, consists of plains and active floodplains in which the main rivers, including the Brahmaputra, have altered their channels in the past. At the centre of this plain lies Madhupur Forest, a former site for tiger hunting. To the Northeast is the Meghna depression, part of which is only 10 feet above sea level; during the rainy season it turns into a huge lake, covering most of its 7,250 square kilometer (2,800 square mile) basin. Bangladesh is a riverine country and is criss-crossed by innumerable rivers, rivulets and their tributaries.'"
      ]
     },
     "execution_count": 3,
     "metadata": {},
     "output_type": "execute_result"
    }
   ],
   "source": [
    "paragraph"
   ]
  },
  {
   "cell_type": "code",
   "execution_count": 4,
   "id": "2dc2acd6",
   "metadata": {},
   "outputs": [
    {
     "data": {
      "text/plain": [
       "['Most of Bangladesh is at low elevations and is divided into five physical regions: (I) the Ganges Delta to the Southwest, (II) the Paradelta to the Northwest, (III) the East Central plains and the Sylhet Hills in the Northeast, and (IV) the Chittagong region in the Southeast.',\n",
       " 'Bangladesh is the largest deltaic region in the world.',\n",
       " 'The Ganges Delta is geologically the most recent compared with other deltas.',\n",
       " 'Mangrove forests thrive in the lower delta, which is flooded by fresh tidal waters.',\n",
       " 'The soil base is new alluvium.',\n",
       " 'The Sundarbans to the Southwest is the largest mangrove forest in the world.',\n",
       " 'The Paradelta, like the delta proper, is a plain but its elevations are higher at 100 to 300 feet above sea level.',\n",
       " 'Its soils are varied - silt and sandy clays and old alluvium.',\n",
       " 'It lies between the Ganges and the (Brahmaputra) Jamuna Rivers.',\n",
       " 'The East Central plains, with the Meghna River almost at its centre, consists of plains and active floodplains in which the main rivers, including the Brahmaputra, have altered their channels in the past.',\n",
       " 'At the centre of this plain lies Madhupur Forest, a former site for tiger hunting.',\n",
       " 'To the Northeast is the Meghna depression, part of which is only 10 feet above sea level; during the rainy season it turns into a huge lake, covering most of its 7,250 square kilometer (2,800 square mile) basin.',\n",
       " 'Bangladesh is a riverine country and is criss-crossed by innumerable rivers, rivulets and their tributaries.']"
      ]
     },
     "execution_count": 4,
     "metadata": {},
     "output_type": "execute_result"
    }
   ],
   "source": [
    "sentence = nltk.sent_tokenize(paragraph)\n",
    "sentence"
   ]
  },
  {
   "cell_type": "code",
   "execution_count": 5,
   "id": "4a71c4a7",
   "metadata": {},
   "outputs": [],
   "source": [
    "import re"
   ]
  },
  {
   "cell_type": "code",
   "execution_count": 6,
   "id": "98689b39",
   "metadata": {},
   "outputs": [],
   "source": [
    "corpus = []\n",
    "\n",
    "for i in range(len(sentence)):\n",
    "    review = re.sub('[^a-zA-Z]',' ',sentence[i])\n",
    "    review = review.lower()\n",
    "    corpus.append(review)"
   ]
  },
  {
   "cell_type": "code",
   "execution_count": 7,
   "id": "6d6da720",
   "metadata": {},
   "outputs": [
    {
     "data": {
      "text/plain": [
       "['most of bangladesh is at low elevations and is divided into five physical regions   i  the ganges delta to the southwest   ii  the paradelta to the northwest   iii  the east central plains and the sylhet hills in the northeast  and  iv  the chittagong region in the southeast ',\n",
       " 'bangladesh is the largest deltaic region in the world ',\n",
       " 'the ganges delta is geologically the most recent compared with other deltas ',\n",
       " 'mangrove forests thrive in the lower delta  which is flooded by fresh tidal waters ',\n",
       " 'the soil base is new alluvium ',\n",
       " 'the sundarbans to the southwest is the largest mangrove forest in the world ',\n",
       " 'the paradelta  like the delta proper  is a plain but its elevations are higher at     to     feet above sea level ',\n",
       " 'its soils are varied   silt and sandy clays and old alluvium ',\n",
       " 'it lies between the ganges and the  brahmaputra  jamuna rivers ',\n",
       " 'the east central plains  with the meghna river almost at its centre  consists of plains and active floodplains in which the main rivers  including the brahmaputra  have altered their channels in the past ',\n",
       " 'at the centre of this plain lies madhupur forest  a former site for tiger hunting ',\n",
       " 'to the northeast is the meghna depression  part of which is only    feet above sea level  during the rainy season it turns into a huge lake  covering most of its       square kilometer        square mile  basin ',\n",
       " 'bangladesh is a riverine country and is criss crossed by innumerable rivers  rivulets and their tributaries ']"
      ]
     },
     "execution_count": 7,
     "metadata": {},
     "output_type": "execute_result"
    }
   ],
   "source": [
    "corpus"
   ]
  },
  {
   "cell_type": "code",
   "execution_count": 8,
   "id": "8fe1c245",
   "metadata": {},
   "outputs": [],
   "source": [
    "# apply stopword with lematizer\n",
    "from nltk.corpus import stopwords\n",
    "lematizer = WordNetLemmatizer()\n",
    "corpus = []\n",
    "\n",
    "for i in range(len(sentence)):\n",
    "    review = re.sub('[^a-zA-Z]',' ',sentence[i])\n",
    "    review = review.lower()\n",
    "    review = review.split()\n",
    "    review = [lematizer.lemmatize(word) for word in review if word not in set(stopwords.words('english'))]\n",
    "    review = \" \".join(review)\n",
    "    corpus.append(review)"
   ]
  },
  {
   "cell_type": "code",
   "execution_count": 9,
   "id": "ea50d6ea",
   "metadata": {},
   "outputs": [
    {
     "data": {
      "text/plain": [
       "['bangladesh low elevation divided five physical region ganges delta southwest ii paradelta northwest iii east central plain sylhet hill northeast iv chittagong region southeast',\n",
       " 'bangladesh largest deltaic region world',\n",
       " 'ganges delta geologically recent compared delta',\n",
       " 'mangrove forest thrive lower delta flooded fresh tidal water',\n",
       " 'soil base new alluvium',\n",
       " 'sundarbans southwest largest mangrove forest world',\n",
       " 'paradelta like delta proper plain elevation higher foot sea level',\n",
       " 'soil varied silt sandy clay old alluvium',\n",
       " 'lie ganges brahmaputra jamuna river',\n",
       " 'east central plain meghna river almost centre consists plain active floodplain main river including brahmaputra altered channel past',\n",
       " 'centre plain lie madhupur forest former site tiger hunting',\n",
       " 'northeast meghna depression part foot sea level rainy season turn huge lake covering square kilometer square mile basin',\n",
       " 'bangladesh riverine country criss crossed innumerable river rivulet tributary']"
      ]
     },
     "execution_count": 9,
     "metadata": {},
     "output_type": "execute_result"
    }
   ],
   "source": [
    "corpus"
   ]
  },
  {
   "cell_type": "code",
   "execution_count": 10,
   "id": "e4f58400",
   "metadata": {},
   "outputs": [
    {
     "data": {
      "text/html": [
       "<style>#sk-container-id-1 {color: black;background-color: white;}#sk-container-id-1 pre{padding: 0;}#sk-container-id-1 div.sk-toggleable {background-color: white;}#sk-container-id-1 label.sk-toggleable__label {cursor: pointer;display: block;width: 100%;margin-bottom: 0;padding: 0.3em;box-sizing: border-box;text-align: center;}#sk-container-id-1 label.sk-toggleable__label-arrow:before {content: \"▸\";float: left;margin-right: 0.25em;color: #696969;}#sk-container-id-1 label.sk-toggleable__label-arrow:hover:before {color: black;}#sk-container-id-1 div.sk-estimator:hover label.sk-toggleable__label-arrow:before {color: black;}#sk-container-id-1 div.sk-toggleable__content {max-height: 0;max-width: 0;overflow: hidden;text-align: left;background-color: #f0f8ff;}#sk-container-id-1 div.sk-toggleable__content pre {margin: 0.2em;color: black;border-radius: 0.25em;background-color: #f0f8ff;}#sk-container-id-1 input.sk-toggleable__control:checked~div.sk-toggleable__content {max-height: 200px;max-width: 100%;overflow: auto;}#sk-container-id-1 input.sk-toggleable__control:checked~label.sk-toggleable__label-arrow:before {content: \"▾\";}#sk-container-id-1 div.sk-estimator input.sk-toggleable__control:checked~label.sk-toggleable__label {background-color: #d4ebff;}#sk-container-id-1 div.sk-label input.sk-toggleable__control:checked~label.sk-toggleable__label {background-color: #d4ebff;}#sk-container-id-1 input.sk-hidden--visually {border: 0;clip: rect(1px 1px 1px 1px);clip: rect(1px, 1px, 1px, 1px);height: 1px;margin: -1px;overflow: hidden;padding: 0;position: absolute;width: 1px;}#sk-container-id-1 div.sk-estimator {font-family: monospace;background-color: #f0f8ff;border: 1px dotted black;border-radius: 0.25em;box-sizing: border-box;margin-bottom: 0.5em;}#sk-container-id-1 div.sk-estimator:hover {background-color: #d4ebff;}#sk-container-id-1 div.sk-parallel-item::after {content: \"\";width: 100%;border-bottom: 1px solid gray;flex-grow: 1;}#sk-container-id-1 div.sk-label:hover label.sk-toggleable__label {background-color: #d4ebff;}#sk-container-id-1 div.sk-serial::before {content: \"\";position: absolute;border-left: 1px solid gray;box-sizing: border-box;top: 0;bottom: 0;left: 50%;z-index: 0;}#sk-container-id-1 div.sk-serial {display: flex;flex-direction: column;align-items: center;background-color: white;padding-right: 0.2em;padding-left: 0.2em;position: relative;}#sk-container-id-1 div.sk-item {position: relative;z-index: 1;}#sk-container-id-1 div.sk-parallel {display: flex;align-items: stretch;justify-content: center;background-color: white;position: relative;}#sk-container-id-1 div.sk-item::before, #sk-container-id-1 div.sk-parallel-item::before {content: \"\";position: absolute;border-left: 1px solid gray;box-sizing: border-box;top: 0;bottom: 0;left: 50%;z-index: -1;}#sk-container-id-1 div.sk-parallel-item {display: flex;flex-direction: column;z-index: 1;position: relative;background-color: white;}#sk-container-id-1 div.sk-parallel-item:first-child::after {align-self: flex-end;width: 50%;}#sk-container-id-1 div.sk-parallel-item:last-child::after {align-self: flex-start;width: 50%;}#sk-container-id-1 div.sk-parallel-item:only-child::after {width: 0;}#sk-container-id-1 div.sk-dashed-wrapped {border: 1px dashed gray;margin: 0 0.4em 0.5em 0.4em;box-sizing: border-box;padding-bottom: 0.4em;background-color: white;}#sk-container-id-1 div.sk-label label {font-family: monospace;font-weight: bold;display: inline-block;line-height: 1.2em;}#sk-container-id-1 div.sk-label-container {text-align: center;}#sk-container-id-1 div.sk-container {/* jupyter's `normalize.less` sets `[hidden] { display: none; }` but bootstrap.min.css set `[hidden] { display: none !important; }` so we also need the `!important` here to be able to override the default hidden behavior on the sphinx rendered scikit-learn.org. See: https://github.com/scikit-learn/scikit-learn/issues/21755 */display: inline-block !important;position: relative;}#sk-container-id-1 div.sk-text-repr-fallback {display: none;}</style><div id=\"sk-container-id-1\" class=\"sk-top-container\"><div class=\"sk-text-repr-fallback\"><pre>CountVectorizer()</pre><b>In a Jupyter environment, please rerun this cell to show the HTML representation or trust the notebook. <br />On GitHub, the HTML representation is unable to render, please try loading this page with nbviewer.org.</b></div><div class=\"sk-container\" hidden><div class=\"sk-item\"><div class=\"sk-estimator sk-toggleable\"><input class=\"sk-toggleable__control sk-hidden--visually\" id=\"sk-estimator-id-1\" type=\"checkbox\" checked><label for=\"sk-estimator-id-1\" class=\"sk-toggleable__label sk-toggleable__label-arrow\">CountVectorizer</label><div class=\"sk-toggleable__content\"><pre>CountVectorizer()</pre></div></div></div></div></div>"
      ],
      "text/plain": [
       "CountVectorizer()"
      ]
     },
     "execution_count": 10,
     "metadata": {},
     "output_type": "execute_result"
    }
   ],
   "source": [
    "# Bag of words\n",
    "from sklearn.feature_extraction.text import CountVectorizer\n",
    "vectorizer = CountVectorizer()\n",
    "vectorizer"
   ]
  },
  {
   "cell_type": "code",
   "execution_count": 11,
   "id": "8893e5d9",
   "metadata": {},
   "outputs": [
    {
     "data": {
      "text/plain": [
       "<13x92 sparse matrix of type '<class 'numpy.int64'>'\n",
       "\twith 125 stored elements in Compressed Sparse Row format>"
      ]
     },
     "execution_count": 11,
     "metadata": {},
     "output_type": "execute_result"
    }
   ],
   "source": [
    "X = vectorizer.fit_transform(corpus)\n",
    "X"
   ]
  },
  {
   "cell_type": "code",
   "execution_count": 30,
   "id": "442154d8",
   "metadata": {},
   "outputs": [
    {
     "data": {
      "text/plain": [
       "{'bangladesh': 4,\n",
       " 'low': 50,\n",
       " 'elevation': 24,\n",
       " 'divided': 22,\n",
       " 'five': 25,\n",
       " 'physical': 64,\n",
       " 'region': 69,\n",
       " 'ganges': 32,\n",
       " 'delta': 19,\n",
       " 'southwest': 80,\n",
       " 'ii': 38,\n",
       " 'paradelta': 61,\n",
       " 'northwest': 59,\n",
       " 'iii': 39,\n",
       " 'east': 23,\n",
       " 'central': 8,\n",
       " 'plain': 65,\n",
       " 'sylhet': 83,\n",
       " 'hill': 35,\n",
       " 'northeast': 58,\n",
       " 'iv': 42,\n",
       " 'chittagong': 11,\n",
       " 'southeast': 79,\n",
       " 'largest': 46,\n",
       " 'deltaic': 20,\n",
       " 'world': 91,\n",
       " 'geologically': 33,\n",
       " 'recent': 68,\n",
       " 'compared': 13,\n",
       " 'mangrove': 54,\n",
       " 'forest': 29,\n",
       " 'thrive': 84,\n",
       " 'lower': 51,\n",
       " 'flooded': 26,\n",
       " 'fresh': 31,\n",
       " 'tidal': 85,\n",
       " 'water': 90,\n",
       " 'soil': 78,\n",
       " 'base': 5,\n",
       " 'new': 57,\n",
       " 'alluvium': 1,\n",
       " 'sundarbans': 82,\n",
       " 'like': 49,\n",
       " 'proper': 66,\n",
       " 'higher': 34,\n",
       " 'foot': 28,\n",
       " 'sea': 74,\n",
       " 'level': 47,\n",
       " 'varied': 89,\n",
       " 'silt': 76,\n",
       " 'sandy': 73,\n",
       " 'clay': 12,\n",
       " 'old': 60,\n",
       " 'lie': 48,\n",
       " 'brahmaputra': 7,\n",
       " 'jamuna': 43,\n",
       " 'river': 70,\n",
       " 'meghna': 55,\n",
       " 'almost': 2,\n",
       " 'centre': 9,\n",
       " 'consists': 14,\n",
       " 'active': 0,\n",
       " 'floodplain': 27,\n",
       " 'main': 53,\n",
       " 'including': 40,\n",
       " 'altered': 3,\n",
       " 'channel': 10,\n",
       " 'past': 63,\n",
       " 'madhupur': 52,\n",
       " 'former': 30,\n",
       " 'site': 77,\n",
       " 'tiger': 86,\n",
       " 'hunting': 37,\n",
       " 'depression': 21,\n",
       " 'part': 62,\n",
       " 'rainy': 67,\n",
       " 'season': 75,\n",
       " 'turn': 88,\n",
       " 'huge': 36,\n",
       " 'lake': 45,\n",
       " 'covering': 16,\n",
       " 'square': 81,\n",
       " 'kilometer': 44,\n",
       " 'mile': 56,\n",
       " 'basin': 6,\n",
       " 'riverine': 71,\n",
       " 'country': 15,\n",
       " 'criss': 17,\n",
       " 'crossed': 18,\n",
       " 'innumerable': 41,\n",
       " 'rivulet': 72,\n",
       " 'tributary': 87}"
      ]
     },
     "execution_count": 30,
     "metadata": {},
     "output_type": "execute_result"
    }
   ],
   "source": [
    "vectorizer.vocabulary_"
   ]
  },
  {
   "cell_type": "code",
   "execution_count": 31,
   "id": "8e3b2d84",
   "metadata": {},
   "outputs": [
    {
     "data": {
      "text/plain": [
       "'bangladesh low elevation divided five physical region ganges delta southwest ii paradelta northwest iii east central plain sylhet hill northeast iv chittagong region southeast'"
      ]
     },
     "execution_count": 31,
     "metadata": {},
     "output_type": "execute_result"
    }
   ],
   "source": [
    "corpus[0]"
   ]
  },
  {
   "cell_type": "code",
   "execution_count": 32,
   "id": "041cde18",
   "metadata": {},
   "outputs": [
    {
     "data": {
      "text/plain": [
       "array([[0, 0, 0, 0, 1, 0, 0, 0, 1, 0, 0, 1, 0, 0, 0, 0, 0, 0, 0, 1, 0, 0,\n",
       "        1, 1, 1, 1, 0, 0, 0, 0, 0, 0, 1, 0, 0, 1, 0, 0, 1, 1, 0, 0, 1, 0,\n",
       "        0, 0, 0, 0, 0, 0, 1, 0, 0, 0, 0, 0, 0, 0, 1, 1, 0, 1, 0, 0, 1, 1,\n",
       "        0, 0, 0, 2, 0, 0, 0, 0, 0, 0, 0, 0, 0, 1, 1, 0, 0, 1, 0, 0, 0, 0,\n",
       "        0, 0, 0, 0]])"
      ]
     },
     "execution_count": 32,
     "metadata": {},
     "output_type": "execute_result"
    }
   ],
   "source": [
    "X[0].toarray()"
   ]
  },
  {
   "cell_type": "code",
   "execution_count": 21,
   "id": "218dbe1a",
   "metadata": {},
   "outputs": [
    {
     "data": {
      "text/plain": [
       "{'bangladesh low': 8,\n",
       " 'low elevation': 118,\n",
       " 'elevation divided': 57,\n",
       " 'divided five': 53,\n",
       " 'five physical': 61,\n",
       " 'physical region': 148,\n",
       " 'region ganges': 166,\n",
       " 'ganges delta': 80,\n",
       " 'delta southwest': 47,\n",
       " 'southwest ii': 193,\n",
       " 'ii paradelta': 91,\n",
       " 'paradelta northwest': 144,\n",
       " 'northwest iii': 139,\n",
       " 'iii east': 93,\n",
       " 'east central': 55,\n",
       " 'central plain': 18,\n",
       " 'plain sylhet': 158,\n",
       " 'sylhet hill': 203,\n",
       " 'hill northeast': 87,\n",
       " 'northeast iv': 135,\n",
       " 'iv chittagong': 99,\n",
       " 'chittagong region': 26,\n",
       " 'region southeast': 168,\n",
       " 'bangladesh low elevation': 9,\n",
       " 'low elevation divided': 119,\n",
       " 'elevation divided five': 58,\n",
       " 'divided five physical': 54,\n",
       " 'five physical region': 62,\n",
       " 'physical region ganges': 149,\n",
       " 'region ganges delta': 167,\n",
       " 'ganges delta southwest': 82,\n",
       " 'delta southwest ii': 48,\n",
       " 'southwest ii paradelta': 194,\n",
       " 'ii paradelta northwest': 92,\n",
       " 'paradelta northwest iii': 145,\n",
       " 'northwest iii east': 140,\n",
       " 'iii east central': 94,\n",
       " 'east central plain': 56,\n",
       " 'central plain sylhet': 20,\n",
       " 'plain sylhet hill': 159,\n",
       " 'sylhet hill northeast': 204,\n",
       " 'hill northeast iv': 88,\n",
       " 'northeast iv chittagong': 136,\n",
       " 'iv chittagong region': 100,\n",
       " 'chittagong region southeast': 27,\n",
       " 'bangladesh largest': 6,\n",
       " 'largest deltaic': 106,\n",
       " 'deltaic region': 49,\n",
       " 'region world': 169,\n",
       " 'bangladesh largest deltaic': 7,\n",
       " 'largest deltaic region': 107,\n",
       " 'deltaic region world': 50,\n",
       " 'delta geologically': 43,\n",
       " 'geologically recent': 83,\n",
       " 'recent compared': 164,\n",
       " 'compared delta': 30,\n",
       " 'ganges delta geologically': 81,\n",
       " 'delta geologically recent': 44,\n",
       " 'geologically recent compared': 84,\n",
       " 'recent compared delta': 165,\n",
       " 'mangrove forest': 126,\n",
       " 'forest thrive': 71,\n",
       " 'thrive lower': 205,\n",
       " 'lower delta': 120,\n",
       " 'delta flooded': 41,\n",
       " 'flooded fresh': 63,\n",
       " 'fresh tidal': 76,\n",
       " 'tidal water': 207,\n",
       " 'mangrove forest thrive': 127,\n",
       " 'forest thrive lower': 72,\n",
       " 'thrive lower delta': 206,\n",
       " 'lower delta flooded': 121,\n",
       " 'delta flooded fresh': 42,\n",
       " 'flooded fresh tidal': 64,\n",
       " 'fresh tidal water': 77,\n",
       " 'soil base': 189,\n",
       " 'base new': 12,\n",
       " 'new alluvium': 134,\n",
       " 'soil base new': 190,\n",
       " 'base new alluvium': 13,\n",
       " 'sundarbans southwest': 201,\n",
       " 'southwest largest': 195,\n",
       " 'largest mangrove': 108,\n",
       " 'forest world': 73,\n",
       " 'sundarbans southwest largest': 202,\n",
       " 'southwest largest mangrove': 196,\n",
       " 'largest mangrove forest': 109,\n",
       " 'mangrove forest world': 128,\n",
       " 'paradelta like': 142,\n",
       " 'like delta': 116,\n",
       " 'delta proper': 45,\n",
       " 'proper plain': 160,\n",
       " 'plain elevation': 152,\n",
       " 'elevation higher': 59,\n",
       " 'higher foot': 85,\n",
       " 'foot sea': 67,\n",
       " 'sea level': 181,\n",
       " 'paradelta like delta': 143,\n",
       " 'like delta proper': 117,\n",
       " 'delta proper plain': 46,\n",
       " 'proper plain elevation': 161,\n",
       " 'plain elevation higher': 153,\n",
       " 'elevation higher foot': 60,\n",
       " 'higher foot sea': 86,\n",
       " 'foot sea level': 68,\n",
       " 'soil varied': 191,\n",
       " 'varied silt': 211,\n",
       " 'silt sandy': 185,\n",
       " 'sandy clay': 179,\n",
       " 'clay old': 28,\n",
       " 'old alluvium': 141,\n",
       " 'soil varied silt': 192,\n",
       " 'varied silt sandy': 212,\n",
       " 'silt sandy clay': 186,\n",
       " 'sandy clay old': 180,\n",
       " 'clay old alluvium': 29,\n",
       " 'lie ganges': 112,\n",
       " 'ganges brahmaputra': 78,\n",
       " 'brahmaputra jamuna': 16,\n",
       " 'jamuna river': 101,\n",
       " 'lie ganges brahmaputra': 113,\n",
       " 'ganges brahmaputra jamuna': 79,\n",
       " 'brahmaputra jamuna river': 17,\n",
       " 'plain meghna': 156,\n",
       " 'meghna river': 131,\n",
       " 'river almost': 170,\n",
       " 'almost centre': 2,\n",
       " 'centre consists': 21,\n",
       " 'consists plain': 31,\n",
       " 'plain active': 150,\n",
       " 'active floodplain': 0,\n",
       " 'floodplain main': 65,\n",
       " 'main river': 124,\n",
       " 'river including': 172,\n",
       " 'including brahmaputra': 95,\n",
       " 'brahmaputra altered': 14,\n",
       " 'altered channel': 4,\n",
       " 'channel past': 25,\n",
       " 'central plain meghna': 19,\n",
       " 'plain meghna river': 157,\n",
       " 'meghna river almost': 132,\n",
       " 'river almost centre': 171,\n",
       " 'almost centre consists': 3,\n",
       " 'centre consists plain': 22,\n",
       " 'consists plain active': 32,\n",
       " 'plain active floodplain': 151,\n",
       " 'active floodplain main': 1,\n",
       " 'floodplain main river': 66,\n",
       " 'main river including': 125,\n",
       " 'river including brahmaputra': 173,\n",
       " 'including brahmaputra altered': 96,\n",
       " 'brahmaputra altered channel': 15,\n",
       " 'altered channel past': 5,\n",
       " 'centre plain': 23,\n",
       " 'plain lie': 154,\n",
       " 'lie madhupur': 114,\n",
       " 'madhupur forest': 122,\n",
       " 'forest former': 69,\n",
       " 'former site': 74,\n",
       " 'site tiger': 187,\n",
       " 'tiger hunting': 208,\n",
       " 'centre plain lie': 24,\n",
       " 'plain lie madhupur': 155,\n",
       " 'lie madhupur forest': 115,\n",
       " 'madhupur forest former': 123,\n",
       " 'forest former site': 70,\n",
       " 'former site tiger': 75,\n",
       " 'site tiger hunting': 188,\n",
       " 'northeast meghna': 137,\n",
       " 'meghna depression': 129,\n",
       " 'depression part': 51,\n",
       " 'part foot': 146,\n",
       " 'level rainy': 110,\n",
       " 'rainy season': 162,\n",
       " 'season turn': 183,\n",
       " 'turn huge': 209,\n",
       " 'huge lake': 89,\n",
       " 'lake covering': 104,\n",
       " 'covering square': 35,\n",
       " 'square kilometer': 197,\n",
       " 'kilometer square': 102,\n",
       " 'square mile': 199,\n",
       " 'mile basin': 133,\n",
       " 'northeast meghna depression': 138,\n",
       " 'meghna depression part': 130,\n",
       " 'depression part foot': 52,\n",
       " 'part foot sea': 147,\n",
       " 'sea level rainy': 182,\n",
       " 'level rainy season': 111,\n",
       " 'rainy season turn': 163,\n",
       " 'season turn huge': 184,\n",
       " 'turn huge lake': 210,\n",
       " 'huge lake covering': 90,\n",
       " 'lake covering square': 105,\n",
       " 'covering square kilometer': 36,\n",
       " 'square kilometer square': 198,\n",
       " 'kilometer square mile': 103,\n",
       " 'square mile basin': 200,\n",
       " 'bangladesh riverine': 10,\n",
       " 'riverine country': 176,\n",
       " 'country criss': 33,\n",
       " 'criss crossed': 37,\n",
       " 'crossed innumerable': 39,\n",
       " 'innumerable river': 97,\n",
       " 'river rivulet': 174,\n",
       " 'rivulet tributary': 178,\n",
       " 'bangladesh riverine country': 11,\n",
       " 'riverine country criss': 177,\n",
       " 'country criss crossed': 34,\n",
       " 'criss crossed innumerable': 38,\n",
       " 'crossed innumerable river': 40,\n",
       " 'innumerable river rivulet': 98,\n",
       " 'river rivulet tributary': 175}"
      ]
     },
     "execution_count": 21,
     "metadata": {},
     "output_type": "execute_result"
    }
   ],
   "source": [
    "# Bag of words with ngram\n",
    "from sklearn.feature_extraction.text import CountVectorizer\n",
    "vectorizer = CountVectorizer(ngram_range=(2,3))\n",
    "X = vectorizer.fit_transform(corpus)\n",
    "vectorizer.vocabulary_"
   ]
  },
  {
   "cell_type": "code",
   "execution_count": 22,
   "id": "caa1b6b0",
   "metadata": {},
   "outputs": [
    {
     "data": {
      "text/plain": [
       "'bangladesh low elevation divided five physical region ganges delta southwest ii paradelta northwest iii east central plain sylhet hill northeast iv chittagong region southeast'"
      ]
     },
     "execution_count": 22,
     "metadata": {},
     "output_type": "execute_result"
    }
   ],
   "source": [
    "corpus[0]"
   ]
  },
  {
   "cell_type": "code",
   "execution_count": 23,
   "id": "e62a9dbe",
   "metadata": {},
   "outputs": [
    {
     "data": {
      "text/plain": [
       "array([[0, 0, 0, 0, 0, 0, 0, 0, 1, 1, 0, 0, 0, 0, 0, 0, 0, 0, 1, 0, 1, 0,\n",
       "        0, 0, 0, 0, 1, 1, 0, 0, 0, 0, 0, 0, 0, 0, 0, 0, 0, 0, 0, 0, 0, 0,\n",
       "        0, 0, 0, 1, 1, 0, 0, 0, 0, 1, 1, 1, 1, 1, 1, 0, 0, 1, 1, 0, 0, 0,\n",
       "        0, 0, 0, 0, 0, 0, 0, 0, 0, 0, 0, 0, 0, 0, 1, 0, 1, 0, 0, 0, 0, 1,\n",
       "        1, 0, 0, 1, 1, 1, 1, 0, 0, 0, 0, 1, 1, 0, 0, 0, 0, 0, 0, 0, 0, 0,\n",
       "        0, 0, 0, 0, 0, 0, 0, 0, 1, 1, 0, 0, 0, 0, 0, 0, 0, 0, 0, 0, 0, 0,\n",
       "        0, 0, 0, 1, 1, 0, 0, 1, 1, 0, 0, 0, 1, 1, 0, 0, 1, 1, 0, 0, 0, 0,\n",
       "        0, 0, 0, 0, 1, 1, 0, 0, 0, 0, 0, 0, 1, 1, 1, 0, 0, 0, 0, 0, 0, 0,\n",
       "        0, 0, 0, 0, 0, 0, 0, 0, 0, 0, 0, 0, 0, 0, 0, 0, 0, 1, 1, 0, 0, 0,\n",
       "        0, 0, 0, 0, 0, 1, 1, 0, 0, 0, 0, 0, 0, 0, 0]])"
      ]
     },
     "execution_count": 23,
     "metadata": {},
     "output_type": "execute_result"
    }
   ],
   "source": [
    "X[0].toarray()"
   ]
  },
  {
   "cell_type": "code",
   "execution_count": 24,
   "id": "6c189d0b",
   "metadata": {},
   "outputs": [
    {
     "data": {
      "text/plain": [
       "{'bangladesh low': 8,\n",
       " 'low elevation': 118,\n",
       " 'elevation divided': 57,\n",
       " 'divided five': 53,\n",
       " 'five physical': 61,\n",
       " 'physical region': 148,\n",
       " 'region ganges': 166,\n",
       " 'ganges delta': 80,\n",
       " 'delta southwest': 47,\n",
       " 'southwest ii': 193,\n",
       " 'ii paradelta': 91,\n",
       " 'paradelta northwest': 144,\n",
       " 'northwest iii': 139,\n",
       " 'iii east': 93,\n",
       " 'east central': 55,\n",
       " 'central plain': 18,\n",
       " 'plain sylhet': 158,\n",
       " 'sylhet hill': 203,\n",
       " 'hill northeast': 87,\n",
       " 'northeast iv': 135,\n",
       " 'iv chittagong': 99,\n",
       " 'chittagong region': 26,\n",
       " 'region southeast': 168,\n",
       " 'bangladesh low elevation': 9,\n",
       " 'low elevation divided': 119,\n",
       " 'elevation divided five': 58,\n",
       " 'divided five physical': 54,\n",
       " 'five physical region': 62,\n",
       " 'physical region ganges': 149,\n",
       " 'region ganges delta': 167,\n",
       " 'ganges delta southwest': 82,\n",
       " 'delta southwest ii': 48,\n",
       " 'southwest ii paradelta': 194,\n",
       " 'ii paradelta northwest': 92,\n",
       " 'paradelta northwest iii': 145,\n",
       " 'northwest iii east': 140,\n",
       " 'iii east central': 94,\n",
       " 'east central plain': 56,\n",
       " 'central plain sylhet': 20,\n",
       " 'plain sylhet hill': 159,\n",
       " 'sylhet hill northeast': 204,\n",
       " 'hill northeast iv': 88,\n",
       " 'northeast iv chittagong': 136,\n",
       " 'iv chittagong region': 100,\n",
       " 'chittagong region southeast': 27,\n",
       " 'bangladesh largest': 6,\n",
       " 'largest deltaic': 106,\n",
       " 'deltaic region': 49,\n",
       " 'region world': 169,\n",
       " 'bangladesh largest deltaic': 7,\n",
       " 'largest deltaic region': 107,\n",
       " 'deltaic region world': 50,\n",
       " 'delta geologically': 43,\n",
       " 'geologically recent': 83,\n",
       " 'recent compared': 164,\n",
       " 'compared delta': 30,\n",
       " 'ganges delta geologically': 81,\n",
       " 'delta geologically recent': 44,\n",
       " 'geologically recent compared': 84,\n",
       " 'recent compared delta': 165,\n",
       " 'mangrove forest': 126,\n",
       " 'forest thrive': 71,\n",
       " 'thrive lower': 205,\n",
       " 'lower delta': 120,\n",
       " 'delta flooded': 41,\n",
       " 'flooded fresh': 63,\n",
       " 'fresh tidal': 76,\n",
       " 'tidal water': 207,\n",
       " 'mangrove forest thrive': 127,\n",
       " 'forest thrive lower': 72,\n",
       " 'thrive lower delta': 206,\n",
       " 'lower delta flooded': 121,\n",
       " 'delta flooded fresh': 42,\n",
       " 'flooded fresh tidal': 64,\n",
       " 'fresh tidal water': 77,\n",
       " 'soil base': 189,\n",
       " 'base new': 12,\n",
       " 'new alluvium': 134,\n",
       " 'soil base new': 190,\n",
       " 'base new alluvium': 13,\n",
       " 'sundarbans southwest': 201,\n",
       " 'southwest largest': 195,\n",
       " 'largest mangrove': 108,\n",
       " 'forest world': 73,\n",
       " 'sundarbans southwest largest': 202,\n",
       " 'southwest largest mangrove': 196,\n",
       " 'largest mangrove forest': 109,\n",
       " 'mangrove forest world': 128,\n",
       " 'paradelta like': 142,\n",
       " 'like delta': 116,\n",
       " 'delta proper': 45,\n",
       " 'proper plain': 160,\n",
       " 'plain elevation': 152,\n",
       " 'elevation higher': 59,\n",
       " 'higher foot': 85,\n",
       " 'foot sea': 67,\n",
       " 'sea level': 181,\n",
       " 'paradelta like delta': 143,\n",
       " 'like delta proper': 117,\n",
       " 'delta proper plain': 46,\n",
       " 'proper plain elevation': 161,\n",
       " 'plain elevation higher': 153,\n",
       " 'elevation higher foot': 60,\n",
       " 'higher foot sea': 86,\n",
       " 'foot sea level': 68,\n",
       " 'soil varied': 191,\n",
       " 'varied silt': 211,\n",
       " 'silt sandy': 185,\n",
       " 'sandy clay': 179,\n",
       " 'clay old': 28,\n",
       " 'old alluvium': 141,\n",
       " 'soil varied silt': 192,\n",
       " 'varied silt sandy': 212,\n",
       " 'silt sandy clay': 186,\n",
       " 'sandy clay old': 180,\n",
       " 'clay old alluvium': 29,\n",
       " 'lie ganges': 112,\n",
       " 'ganges brahmaputra': 78,\n",
       " 'brahmaputra jamuna': 16,\n",
       " 'jamuna river': 101,\n",
       " 'lie ganges brahmaputra': 113,\n",
       " 'ganges brahmaputra jamuna': 79,\n",
       " 'brahmaputra jamuna river': 17,\n",
       " 'plain meghna': 156,\n",
       " 'meghna river': 131,\n",
       " 'river almost': 170,\n",
       " 'almost centre': 2,\n",
       " 'centre consists': 21,\n",
       " 'consists plain': 31,\n",
       " 'plain active': 150,\n",
       " 'active floodplain': 0,\n",
       " 'floodplain main': 65,\n",
       " 'main river': 124,\n",
       " 'river including': 172,\n",
       " 'including brahmaputra': 95,\n",
       " 'brahmaputra altered': 14,\n",
       " 'altered channel': 4,\n",
       " 'channel past': 25,\n",
       " 'central plain meghna': 19,\n",
       " 'plain meghna river': 157,\n",
       " 'meghna river almost': 132,\n",
       " 'river almost centre': 171,\n",
       " 'almost centre consists': 3,\n",
       " 'centre consists plain': 22,\n",
       " 'consists plain active': 32,\n",
       " 'plain active floodplain': 151,\n",
       " 'active floodplain main': 1,\n",
       " 'floodplain main river': 66,\n",
       " 'main river including': 125,\n",
       " 'river including brahmaputra': 173,\n",
       " 'including brahmaputra altered': 96,\n",
       " 'brahmaputra altered channel': 15,\n",
       " 'altered channel past': 5,\n",
       " 'centre plain': 23,\n",
       " 'plain lie': 154,\n",
       " 'lie madhupur': 114,\n",
       " 'madhupur forest': 122,\n",
       " 'forest former': 69,\n",
       " 'former site': 74,\n",
       " 'site tiger': 187,\n",
       " 'tiger hunting': 208,\n",
       " 'centre plain lie': 24,\n",
       " 'plain lie madhupur': 155,\n",
       " 'lie madhupur forest': 115,\n",
       " 'madhupur forest former': 123,\n",
       " 'forest former site': 70,\n",
       " 'former site tiger': 75,\n",
       " 'site tiger hunting': 188,\n",
       " 'northeast meghna': 137,\n",
       " 'meghna depression': 129,\n",
       " 'depression part': 51,\n",
       " 'part foot': 146,\n",
       " 'level rainy': 110,\n",
       " 'rainy season': 162,\n",
       " 'season turn': 183,\n",
       " 'turn huge': 209,\n",
       " 'huge lake': 89,\n",
       " 'lake covering': 104,\n",
       " 'covering square': 35,\n",
       " 'square kilometer': 197,\n",
       " 'kilometer square': 102,\n",
       " 'square mile': 199,\n",
       " 'mile basin': 133,\n",
       " 'northeast meghna depression': 138,\n",
       " 'meghna depression part': 130,\n",
       " 'depression part foot': 52,\n",
       " 'part foot sea': 147,\n",
       " 'sea level rainy': 182,\n",
       " 'level rainy season': 111,\n",
       " 'rainy season turn': 163,\n",
       " 'season turn huge': 184,\n",
       " 'turn huge lake': 210,\n",
       " 'huge lake covering': 90,\n",
       " 'lake covering square': 105,\n",
       " 'covering square kilometer': 36,\n",
       " 'square kilometer square': 198,\n",
       " 'kilometer square mile': 103,\n",
       " 'square mile basin': 200,\n",
       " 'bangladesh riverine': 10,\n",
       " 'riverine country': 176,\n",
       " 'country criss': 33,\n",
       " 'criss crossed': 37,\n",
       " 'crossed innumerable': 39,\n",
       " 'innumerable river': 97,\n",
       " 'river rivulet': 174,\n",
       " 'rivulet tributary': 178,\n",
       " 'bangladesh riverine country': 11,\n",
       " 'riverine country criss': 177,\n",
       " 'country criss crossed': 34,\n",
       " 'criss crossed innumerable': 38,\n",
       " 'crossed innumerable river': 40,\n",
       " 'innumerable river rivulet': 98,\n",
       " 'river rivulet tributary': 175}"
      ]
     },
     "execution_count": 24,
     "metadata": {},
     "output_type": "execute_result"
    }
   ],
   "source": [
    "# TF-IDF\n",
    "from sklearn.feature_extraction.text import TfidfVectorizer\n",
    "vectorizer = TfidfVectorizer(ngram_range=(2,3))\n",
    "X = vectorizer.fit_transform(corpus)\n",
    "vectorizer.vocabulary_"
   ]
  },
  {
   "cell_type": "code",
   "execution_count": 25,
   "id": "bbccf950",
   "metadata": {},
   "outputs": [
    {
     "data": {
      "text/plain": [
       "'bangladesh low elevation divided five physical region ganges delta southwest ii paradelta northwest iii east central plain sylhet hill northeast iv chittagong region southeast'"
      ]
     },
     "execution_count": 25,
     "metadata": {},
     "output_type": "execute_result"
    }
   ],
   "source": [
    "corpus[0]"
   ]
  },
  {
   "cell_type": "code",
   "execution_count": 27,
   "id": "88146549",
   "metadata": {},
   "outputs": [
    {
     "data": {
      "text/plain": [
       "array([[0.        , 0.        , 0.        , 0.        , 0.        ,\n",
       "        0.        , 0.        , 0.        , 0.15079906, 0.15079906,\n",
       "        0.        , 0.        , 0.        , 0.        , 0.        ,\n",
       "        0.        , 0.        , 0.        , 0.13004359, 0.        ,\n",
       "        0.15079906, 0.        , 0.        , 0.        , 0.        ,\n",
       "        0.        , 0.15079906, 0.15079906, 0.        , 0.        ,\n",
       "        0.        , 0.        , 0.        , 0.        , 0.        ,\n",
       "        0.        , 0.        , 0.        , 0.        , 0.        ,\n",
       "        0.        , 0.        , 0.        , 0.        , 0.        ,\n",
       "        0.        , 0.        , 0.15079906, 0.15079906, 0.        ,\n",
       "        0.        , 0.        , 0.        , 0.15079906, 0.15079906,\n",
       "        0.13004359, 0.13004359, 0.15079906, 0.15079906, 0.        ,\n",
       "        0.        , 0.15079906, 0.15079906, 0.        , 0.        ,\n",
       "        0.        , 0.        , 0.        , 0.        , 0.        ,\n",
       "        0.        , 0.        , 0.        , 0.        , 0.        ,\n",
       "        0.        , 0.        , 0.        , 0.        , 0.        ,\n",
       "        0.13004359, 0.        , 0.15079906, 0.        , 0.        ,\n",
       "        0.        , 0.        , 0.15079906, 0.15079906, 0.        ,\n",
       "        0.        , 0.15079906, 0.15079906, 0.15079906, 0.15079906,\n",
       "        0.        , 0.        , 0.        , 0.        , 0.15079906,\n",
       "        0.15079906, 0.        , 0.        , 0.        , 0.        ,\n",
       "        0.        , 0.        , 0.        , 0.        , 0.        ,\n",
       "        0.        , 0.        , 0.        , 0.        , 0.        ,\n",
       "        0.        , 0.        , 0.        , 0.15079906, 0.15079906,\n",
       "        0.        , 0.        , 0.        , 0.        , 0.        ,\n",
       "        0.        , 0.        , 0.        , 0.        , 0.        ,\n",
       "        0.        , 0.        , 0.        , 0.        , 0.        ,\n",
       "        0.15079906, 0.15079906, 0.        , 0.        , 0.15079906,\n",
       "        0.15079906, 0.        , 0.        , 0.        , 0.15079906,\n",
       "        0.15079906, 0.        , 0.        , 0.15079906, 0.15079906,\n",
       "        0.        , 0.        , 0.        , 0.        , 0.        ,\n",
       "        0.        , 0.        , 0.        , 0.15079906, 0.15079906,\n",
       "        0.        , 0.        , 0.        , 0.        , 0.        ,\n",
       "        0.        , 0.15079906, 0.15079906, 0.15079906, 0.        ,\n",
       "        0.        , 0.        , 0.        , 0.        , 0.        ,\n",
       "        0.        , 0.        , 0.        , 0.        , 0.        ,\n",
       "        0.        , 0.        , 0.        , 0.        , 0.        ,\n",
       "        0.        , 0.        , 0.        , 0.        , 0.        ,\n",
       "        0.        , 0.        , 0.        , 0.15079906, 0.15079906,\n",
       "        0.        , 0.        , 0.        , 0.        , 0.        ,\n",
       "        0.        , 0.        , 0.        , 0.15079906, 0.15079906,\n",
       "        0.        , 0.        , 0.        , 0.        , 0.        ,\n",
       "        0.        , 0.        , 0.        ]])"
      ]
     },
     "execution_count": 27,
     "metadata": {},
     "output_type": "execute_result"
    }
   ],
   "source": [
    "X[0].toarray()"
   ]
  },
  {
   "cell_type": "code",
   "execution_count": null,
   "id": "0693f04b",
   "metadata": {},
   "outputs": [],
   "source": []
  }
 ],
 "metadata": {
  "kernelspec": {
   "display_name": "Python 3 (ipykernel)",
   "language": "python",
   "name": "python3"
  },
  "language_info": {
   "codemirror_mode": {
    "name": "ipython",
    "version": 3
   },
   "file_extension": ".py",
   "mimetype": "text/x-python",
   "name": "python",
   "nbconvert_exporter": "python",
   "pygments_lexer": "ipython3",
   "version": "3.11.3"
  }
 },
 "nbformat": 4,
 "nbformat_minor": 5
}
