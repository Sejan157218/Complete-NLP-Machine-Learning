{
 "cells": [
  {
   "cell_type": "code",
   "execution_count": 1,
   "id": "d1f147e4",
   "metadata": {},
   "outputs": [],
   "source": [
    "paragraph = \"\"\"The name of my nation is Bangladesh. Bangladesh is a little nation with a sizable population. It is a South Asian nation that is moderately developed. We have a thriving economy that is growing. It is 147,570 square kilometres in size. But there are 164 million people living there. More than the area, that.\n",
    "\n",
    "Yet, the nation is still quite picturesque and tranquil. People of Bangladesh are really amicable with each other. This nation’s history of independence is illustrious. After a bloody battle involving nine mothers, we gained our freedom from Pakistan in 1971. In that genocide, more than 3 million Bangladeshis gave their lives.\n",
    "\n",
    "Nonetheless, we were still able to achieve our freedom. After gaining its freedom, the nation experienced several hardships. Yet, it does so quite well. One of the nicest places to live in South Asia right now is Bangladesh. There are so many stunning places to see in this nation.\n",
    "\n",
    "We have Cox’s Bazaar, which is the world’s longest sea beach. One of the largest mangrove forests in the world and a fantastic source of beauty is the Sundarban. There is a Royal Bengal Tiger to be found. I have a great passion for my nation. Being born here is such a blessing.\"\"\" "
   ]
  },
  {
   "cell_type": "code",
   "execution_count": 3,
   "id": "c4fe729a",
   "metadata": {},
   "outputs": [],
   "source": [
    "from nltk.tokenize import sent_tokenize"
   ]
  },
  {
   "cell_type": "code",
   "execution_count": 4,
   "id": "1fb3bde6",
   "metadata": {},
   "outputs": [
    {
     "data": {
      "text/plain": [
       "['The name of my nation is Bangladesh.',\n",
       " 'Bangladesh is a little nation with a sizable population.',\n",
       " 'It is a South Asian nation that is moderately developed.',\n",
       " 'We have a thriving economy that is growing.',\n",
       " 'It is 147,570 square kilometres in size.',\n",
       " 'But there are 164 million people living there.',\n",
       " 'More than the area, that.',\n",
       " 'Yet, the nation is still quite picturesque and tranquil.',\n",
       " 'People of Bangladesh are really amicable with each other.',\n",
       " 'This nation’s history of independence is illustrious.',\n",
       " 'After a bloody battle involving nine mothers, we gained our freedom from Pakistan in 1971.',\n",
       " 'In that genocide, more than 3 million Bangladeshis gave their lives.',\n",
       " 'Nonetheless, we were still able to achieve our freedom.',\n",
       " 'After gaining its freedom, the nation experienced several hardships.',\n",
       " 'Yet, it does so quite well.',\n",
       " 'One of the nicest places to live in South Asia right now is Bangladesh.',\n",
       " 'There are so many stunning places to see in this nation.',\n",
       " 'We have Cox’s Bazaar, which is the world’s longest sea beach.',\n",
       " 'One of the largest mangrove forests in the world and a fantastic source of beauty is the Sundarban.',\n",
       " 'There is a Royal Bengal Tiger to be found.',\n",
       " 'I have a great passion for my nation.',\n",
       " 'Being born here is such a blessing.']"
      ]
     },
     "execution_count": 4,
     "metadata": {},
     "output_type": "execute_result"
    }
   ],
   "source": [
    "sentences = sent_tokenize(paragraph)\n",
    "sentences"
   ]
  },
  {
   "cell_type": "code",
   "execution_count": 5,
   "id": "fe19b08a",
   "metadata": {},
   "outputs": [],
   "source": [
    "from nltk.corpus import stopwords"
   ]
  },
  {
   "cell_type": "code",
   "execution_count": 7,
   "id": "486013e5",
   "metadata": {},
   "outputs": [
    {
     "name": "stderr",
     "output_type": "stream",
     "text": [
      "[nltk_data] Downloading package stopwords to /home/dev/nltk_data...\n",
      "[nltk_data]   Package stopwords is already up-to-date!\n"
     ]
    },
    {
     "data": {
      "text/plain": [
       "True"
      ]
     },
     "execution_count": 7,
     "metadata": {},
     "output_type": "execute_result"
    }
   ],
   "source": [
    "import nltk\n",
    "nltk.download('stopwords')"
   ]
  },
  {
   "cell_type": "code",
   "execution_count": 8,
   "id": "edca40b7",
   "metadata": {},
   "outputs": [
    {
     "data": {
      "text/plain": [
       "['i',\n",
       " 'me',\n",
       " 'my',\n",
       " 'myself',\n",
       " 'we',\n",
       " 'our',\n",
       " 'ours',\n",
       " 'ourselves',\n",
       " 'you',\n",
       " \"you're\",\n",
       " \"you've\",\n",
       " \"you'll\",\n",
       " \"you'd\",\n",
       " 'your',\n",
       " 'yours',\n",
       " 'yourself',\n",
       " 'yourselves',\n",
       " 'he',\n",
       " 'him',\n",
       " 'his',\n",
       " 'himself',\n",
       " 'she',\n",
       " \"she's\",\n",
       " 'her',\n",
       " 'hers',\n",
       " 'herself',\n",
       " 'it',\n",
       " \"it's\",\n",
       " 'its',\n",
       " 'itself',\n",
       " 'they',\n",
       " 'them',\n",
       " 'their',\n",
       " 'theirs',\n",
       " 'themselves',\n",
       " 'what',\n",
       " 'which',\n",
       " 'who',\n",
       " 'whom',\n",
       " 'this',\n",
       " 'that',\n",
       " \"that'll\",\n",
       " 'these',\n",
       " 'those',\n",
       " 'am',\n",
       " 'is',\n",
       " 'are',\n",
       " 'was',\n",
       " 'were',\n",
       " 'be',\n",
       " 'been',\n",
       " 'being',\n",
       " 'have',\n",
       " 'has',\n",
       " 'had',\n",
       " 'having',\n",
       " 'do',\n",
       " 'does',\n",
       " 'did',\n",
       " 'doing',\n",
       " 'a',\n",
       " 'an',\n",
       " 'the',\n",
       " 'and',\n",
       " 'but',\n",
       " 'if',\n",
       " 'or',\n",
       " 'because',\n",
       " 'as',\n",
       " 'until',\n",
       " 'while',\n",
       " 'of',\n",
       " 'at',\n",
       " 'by',\n",
       " 'for',\n",
       " 'with',\n",
       " 'about',\n",
       " 'against',\n",
       " 'between',\n",
       " 'into',\n",
       " 'through',\n",
       " 'during',\n",
       " 'before',\n",
       " 'after',\n",
       " 'above',\n",
       " 'below',\n",
       " 'to',\n",
       " 'from',\n",
       " 'up',\n",
       " 'down',\n",
       " 'in',\n",
       " 'out',\n",
       " 'on',\n",
       " 'off',\n",
       " 'over',\n",
       " 'under',\n",
       " 'again',\n",
       " 'further',\n",
       " 'then',\n",
       " 'once',\n",
       " 'here',\n",
       " 'there',\n",
       " 'when',\n",
       " 'where',\n",
       " 'why',\n",
       " 'how',\n",
       " 'all',\n",
       " 'any',\n",
       " 'both',\n",
       " 'each',\n",
       " 'few',\n",
       " 'more',\n",
       " 'most',\n",
       " 'other',\n",
       " 'some',\n",
       " 'such',\n",
       " 'no',\n",
       " 'nor',\n",
       " 'not',\n",
       " 'only',\n",
       " 'own',\n",
       " 'same',\n",
       " 'so',\n",
       " 'than',\n",
       " 'too',\n",
       " 'very',\n",
       " 's',\n",
       " 't',\n",
       " 'can',\n",
       " 'will',\n",
       " 'just',\n",
       " 'don',\n",
       " \"don't\",\n",
       " 'should',\n",
       " \"should've\",\n",
       " 'now',\n",
       " 'd',\n",
       " 'll',\n",
       " 'm',\n",
       " 'o',\n",
       " 're',\n",
       " 've',\n",
       " 'y',\n",
       " 'ain',\n",
       " 'aren',\n",
       " \"aren't\",\n",
       " 'couldn',\n",
       " \"couldn't\",\n",
       " 'didn',\n",
       " \"didn't\",\n",
       " 'doesn',\n",
       " \"doesn't\",\n",
       " 'hadn',\n",
       " \"hadn't\",\n",
       " 'hasn',\n",
       " \"hasn't\",\n",
       " 'haven',\n",
       " \"haven't\",\n",
       " 'isn',\n",
       " \"isn't\",\n",
       " 'ma',\n",
       " 'mightn',\n",
       " \"mightn't\",\n",
       " 'mustn',\n",
       " \"mustn't\",\n",
       " 'needn',\n",
       " \"needn't\",\n",
       " 'shan',\n",
       " \"shan't\",\n",
       " 'shouldn',\n",
       " \"shouldn't\",\n",
       " 'wasn',\n",
       " \"wasn't\",\n",
       " 'weren',\n",
       " \"weren't\",\n",
       " 'won',\n",
       " \"won't\",\n",
       " 'wouldn',\n",
       " \"wouldn't\"]"
      ]
     },
     "execution_count": 8,
     "metadata": {},
     "output_type": "execute_result"
    }
   ],
   "source": [
    "stopwords.words('english')"
   ]
  },
  {
   "cell_type": "code",
   "execution_count": 9,
   "id": "240a4003",
   "metadata": {},
   "outputs": [],
   "source": [
    "set_stopwords = set(stopwords.words('english'))"
   ]
  },
  {
   "cell_type": "code",
   "execution_count": 12,
   "id": "800c4364",
   "metadata": {},
   "outputs": [],
   "source": [
    "len_sentence = len(sentences)"
   ]
  },
  {
   "cell_type": "markdown",
   "id": "39a98398",
   "metadata": {},
   "source": [
    "# Apply sent_tokenize ---> wors_tokenize ---> stopwords---> filter ----> stemming or lemmatization"
   ]
  },
  {
   "cell_type": "code",
   "execution_count": 16,
   "id": "c657c531",
   "metadata": {},
   "outputs": [
    {
     "data": {
      "text/plain": [
       "['the name nation bangladesh .',\n",
       " 'bangladesh littl nation sizabl popul .',\n",
       " 'it south asian nation moder develop .',\n",
       " 'we thrive economi grow .',\n",
       " 'it 147,570 squar kilometr size .',\n",
       " 'but 164 million peopl live .',\n",
       " 'more area , .',\n",
       " 'yet , nation still quit picturesqu tranquil .',\n",
       " 'peopl bangladesh realli amic .',\n",
       " 'thi nation ’ histori independ illustri .',\n",
       " 'after bloodi battl involv nine mother , gain freedom pakistan 1971 .',\n",
       " 'in genocid , 3 million bangladeshi gave live .',\n",
       " 'nonetheless , still abl achiev freedom .',\n",
       " 'after gain freedom , nation experienc sever hardship .',\n",
       " 'yet , quit well .',\n",
       " 'one nicest place live south asia right bangladesh .',\n",
       " 'there mani stun place see nation .',\n",
       " 'we cox ’ bazaar , world ’ longest sea beach .',\n",
       " 'one largest mangrov forest world fantast sourc beauti sundarban .',\n",
       " 'there royal bengal tiger found .',\n",
       " 'i great passion nation .',\n",
       " 'be born bless .']"
      ]
     },
     "execution_count": 16,
     "metadata": {},
     "output_type": "execute_result"
    }
   ],
   "source": [
    "# porter stemming\n",
    "from nltk.stem import PorterStemmer\n",
    "from nltk.tokenize import word_tokenize\n",
    "\n",
    "stemmer = PorterStemmer()\n",
    "after_porter_stem = []\n",
    "\n",
    "for i in range(len_sentence):\n",
    "    words = nltk.word_tokenize(sentences[i])\n",
    "    words = [stemmer.stem(word) for word in words if word not in set_stopwords]\n",
    "    after_porter_stem.append(\" \".join(words))\n",
    "after_porter_stem"
   ]
  },
  {
   "cell_type": "code",
   "execution_count": 19,
   "id": "fc4fccf6",
   "metadata": {},
   "outputs": [
    {
     "data": {
      "text/plain": [
       "['the name nation bangladesh .',\n",
       " 'bangladesh littl nation sizabl popul .',\n",
       " 'it south asian nation moder develop .',\n",
       " 'we thrive economi grow .',\n",
       " 'it 147,570 squar kilometr size .',\n",
       " 'but 164 million peopl live .',\n",
       " 'more area , .',\n",
       " 'yet , nation still quit picturesqu tranquil .',\n",
       " 'peopl bangladesh realli amic .',\n",
       " 'this nation ’ histori independ illustri .',\n",
       " 'after bloodi battl involv nine mother , gain freedom pakistan 1971 .',\n",
       " 'in genocid , 3 million bangladeshi gave live .',\n",
       " 'nonetheless , still abl achiev freedom .',\n",
       " 'after gain freedom , nation experienc sever hardship .',\n",
       " 'yet , quit well .',\n",
       " 'one nicest place live south asia right bangladesh .',\n",
       " 'there mani stun place see nation .',\n",
       " 'we cox ’ bazaar , world ’ longest sea beach .',\n",
       " 'one largest mangrov forest world fantast sourc beauti sundarban .',\n",
       " 'there royal bengal tiger found .',\n",
       " 'i great passion nation .',\n",
       " 'be born bless .']"
      ]
     },
     "execution_count": 19,
     "metadata": {},
     "output_type": "execute_result"
    }
   ],
   "source": [
    "# snowballstemmer\n",
    "from nltk.stem import SnowballStemmer\n",
    "from nltk.tokenize import word_tokenize\n",
    "\n",
    "snowball_stemmer = SnowballStemmer('english')\n",
    "after_snowball_stemmer = []\n",
    "\n",
    "for i in range(len_sentence):\n",
    "    words = nltk.word_tokenize(sentences[i])\n",
    "    words = [snowball_stemmer.stem(word) for word in words if word not in set_stopwords]\n",
    "    after_snowball_stemmer.append(\" \".join(words))\n",
    "after_snowball_stemmer"
   ]
  },
  {
   "cell_type": "code",
   "execution_count": 23,
   "id": "4524ec95",
   "metadata": {},
   "outputs": [
    {
     "data": {
      "text/plain": [
       "['the name nation bangladesh .',\n",
       " 'bangladesh little nation sizable population .',\n",
       " 'it south asian nation moderately developed .',\n",
       " 'we thriving economy growing .',\n",
       " 'it 147,570 square kilometre size .',\n",
       " 'but 164 million people living .',\n",
       " 'more area , .',\n",
       " 'yet , nation still quite picturesque tranquil .',\n",
       " 'people bangladesh really amicable .',\n",
       " 'this nation ’ history independence illustrious .',\n",
       " 'after bloody battle involving nine mother , gained freedom pakistan 1971 .',\n",
       " 'in genocide , 3 million bangladeshi gave life .',\n",
       " 'nonetheless , still able achieve freedom .',\n",
       " 'after gaining freedom , nation experienced several hardship .',\n",
       " 'yet , quite well .',\n",
       " 'one nicest place live south asia right bangladesh .',\n",
       " 'there many stunning place see nation .',\n",
       " 'we cox ’ bazaar , world ’ longest sea beach .',\n",
       " 'one largest mangrove forest world fantastic source beauty sundarban .',\n",
       " 'there royal bengal tiger found .',\n",
       " 'i great passion nation .',\n",
       " 'being born blessing .']"
      ]
     },
     "execution_count": 23,
     "metadata": {},
     "output_type": "execute_result"
    }
   ],
   "source": [
    "# snowballstemmer\n",
    "from nltk.stem import WordNetLemmatizer\n",
    "from nltk.tokenize import word_tokenize\n",
    "\n",
    "lemmatizer = WordNetLemmatizer()\n",
    "after_lemmatizer = []\n",
    "\n",
    "for i in range(len_sentence):\n",
    "    words = nltk.word_tokenize(sentences[i])\n",
    "    words = [lemmatizer.lemmatize(word.lower()) for word in words if word not in set_stopwords]\n",
    "    after_lemmatizer.append(\" \".join(words))\n",
    "after_lemmatizer"
   ]
  },
  {
   "cell_type": "code",
   "execution_count": null,
   "id": "d1f5345e",
   "metadata": {},
   "outputs": [],
   "source": []
  }
 ],
 "metadata": {
  "kernelspec": {
   "display_name": "Python 3 (ipykernel)",
   "language": "python",
   "name": "python3"
  },
  "language_info": {
   "codemirror_mode": {
    "name": "ipython",
    "version": 3
   },
   "file_extension": ".py",
   "mimetype": "text/x-python",
   "name": "python",
   "nbconvert_exporter": "python",
   "pygments_lexer": "ipython3",
   "version": "3.11.3"
  }
 },
 "nbformat": 4,
 "nbformat_minor": 5
}
