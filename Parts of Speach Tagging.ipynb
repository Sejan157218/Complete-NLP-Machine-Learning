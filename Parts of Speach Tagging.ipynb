{
 "cells": [
  {
   "cell_type": "code",
   "execution_count": 1,
   "id": "ae1783ff",
   "metadata": {},
   "outputs": [],
   "source": [
    "paragraph = \"\"\"The name of my nation is Bangladesh. Bangladesh is a little nation with a sizable population. It is a South Asian nation that is moderately developed. We have a thriving economy that is growing. It is 147,570 square kilometres in size. But there are 164 million people living there. More than the area, that.\n",
    "\n",
    "Yet, the nation is still quite picturesque and tranquil. People of Bangladesh are really amicable with each other. This nation’s history of independence is illustrious. After a bloody battle involving nine mothers, we gained our freedom from Pakistan in 1971. In that genocide, more than 3 million Bangladeshis gave their lives.\n",
    "\n",
    "Nonetheless, we were still able to achieve our freedom. After gaining its freedom, the nation experienced several hardships. Yet, it does so quite well. One of the nicest places to live in South Asia right now is Bangladesh. There are so many stunning places to see in this nation.\n",
    "\n",
    "We have Cox’s Bazaar, which is the world’s longest sea beach. One of the largest mangrove forests in the world and a fantastic source of beauty is the Sundarban. There is a Royal Bengal Tiger to be found. I have a great passion for my nation. Being born here is such a blessing.\"\"\" "
   ]
  },
  {
   "cell_type": "code",
   "execution_count": 2,
   "id": "ffc7e637",
   "metadata": {},
   "outputs": [],
   "source": [
    "from nltk.tokenize import sent_tokenize"
   ]
  },
  {
   "cell_type": "code",
   "execution_count": 3,
   "id": "de2503d2",
   "metadata": {},
   "outputs": [
    {
     "data": {
      "text/plain": [
       "['The name of my nation is Bangladesh.',\n",
       " 'Bangladesh is a little nation with a sizable population.',\n",
       " 'It is a South Asian nation that is moderately developed.',\n",
       " 'We have a thriving economy that is growing.',\n",
       " 'It is 147,570 square kilometres in size.',\n",
       " 'But there are 164 million people living there.',\n",
       " 'More than the area, that.',\n",
       " 'Yet, the nation is still quite picturesque and tranquil.',\n",
       " 'People of Bangladesh are really amicable with each other.',\n",
       " 'This nation’s history of independence is illustrious.',\n",
       " 'After a bloody battle involving nine mothers, we gained our freedom from Pakistan in 1971.',\n",
       " 'In that genocide, more than 3 million Bangladeshis gave their lives.',\n",
       " 'Nonetheless, we were still able to achieve our freedom.',\n",
       " 'After gaining its freedom, the nation experienced several hardships.',\n",
       " 'Yet, it does so quite well.',\n",
       " 'One of the nicest places to live in South Asia right now is Bangladesh.',\n",
       " 'There are so many stunning places to see in this nation.',\n",
       " 'We have Cox’s Bazaar, which is the world’s longest sea beach.',\n",
       " 'One of the largest mangrove forests in the world and a fantastic source of beauty is the Sundarban.',\n",
       " 'There is a Royal Bengal Tiger to be found.',\n",
       " 'I have a great passion for my nation.',\n",
       " 'Being born here is such a blessing.']"
      ]
     },
     "execution_count": 3,
     "metadata": {},
     "output_type": "execute_result"
    }
   ],
   "source": [
    "sentences = sent_tokenize(paragraph)\n",
    "sentences"
   ]
  },
  {
   "cell_type": "code",
   "execution_count": 4,
   "id": "18effe04",
   "metadata": {},
   "outputs": [],
   "source": [
    "from nltk.corpus import stopwords"
   ]
  },
  {
   "cell_type": "code",
   "execution_count": 5,
   "id": "2300e3f4",
   "metadata": {},
   "outputs": [],
   "source": [
    "import nltk"
   ]
  },
  {
   "cell_type": "code",
   "execution_count": 6,
   "id": "cd3c705e",
   "metadata": {},
   "outputs": [],
   "source": [
    "set_stopwords = set(stopwords.words('english'))"
   ]
  },
  {
   "cell_type": "code",
   "execution_count": 7,
   "id": "f7020437",
   "metadata": {},
   "outputs": [],
   "source": [
    "len_sentence = len(sentences)"
   ]
  },
  {
   "cell_type": "code",
   "execution_count": null,
   "id": "e64e136f",
   "metadata": {},
   "outputs": [],
   "source": []
  }
 ],
 "metadata": {
  "kernelspec": {
   "display_name": "Python 3 (ipykernel)",
   "language": "python",
   "name": "python3"
  },
  "language_info": {
   "codemirror_mode": {
    "name": "ipython",
    "version": 3
   },
   "file_extension": ".py",
   "mimetype": "text/x-python",
   "name": "python",
   "nbconvert_exporter": "python",
   "pygments_lexer": "ipython3",
   "version": "3.11.3"
  }
 },
 "nbformat": 4,
 "nbformat_minor": 5
}
