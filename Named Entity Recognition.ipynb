{
 "cells": [
  {
   "cell_type": "code",
   "execution_count": 1,
   "id": "13ed87db",
   "metadata": {},
   "outputs": [],
   "source": [
    "sentence = \"\"\"The name of my nation is Bangladesh. Bangladesh is a little nation with a sizable population. It is a South Asian nation that is moderately developed. We have a thriving economy that is growing. It is 147,570 square kilometres in size. But there are 164 million people living there. More than the area, that.\n",
    "\n",
    "Yet, the nation is still quite picturesque and tranquil. People of Bangladesh are really amicable with each other.\"\"\""
   ]
  },
  {
   "cell_type": "code",
   "execution_count": 2,
   "id": "6bf9abc5",
   "metadata": {},
   "outputs": [],
   "source": [
    "import nltk"
   ]
  },
  {
   "cell_type": "code",
   "execution_count": 7,
   "id": "537867e4",
   "metadata": {},
   "outputs": [
    {
     "data": {
      "text/plain": [
       "['The',\n",
       " 'name',\n",
       " 'of',\n",
       " 'my',\n",
       " 'nation',\n",
       " 'is',\n",
       " 'Bangladesh',\n",
       " '.',\n",
       " 'Bangladesh',\n",
       " 'is',\n",
       " 'a',\n",
       " 'little',\n",
       " 'nation',\n",
       " 'with',\n",
       " 'a',\n",
       " 'sizable',\n",
       " 'population',\n",
       " '.',\n",
       " 'It',\n",
       " 'is',\n",
       " 'a',\n",
       " 'South',\n",
       " 'Asian',\n",
       " 'nation',\n",
       " 'that',\n",
       " 'is',\n",
       " 'moderately',\n",
       " 'developed',\n",
       " '.',\n",
       " 'We',\n",
       " 'have',\n",
       " 'a',\n",
       " 'thriving',\n",
       " 'economy',\n",
       " 'that',\n",
       " 'is',\n",
       " 'growing',\n",
       " '.',\n",
       " 'It',\n",
       " 'is',\n",
       " '147,570',\n",
       " 'square',\n",
       " 'kilometres',\n",
       " 'in',\n",
       " 'size',\n",
       " '.',\n",
       " 'But',\n",
       " 'there',\n",
       " 'are',\n",
       " '164',\n",
       " 'million',\n",
       " 'people',\n",
       " 'living',\n",
       " 'there',\n",
       " '.',\n",
       " 'More',\n",
       " 'than',\n",
       " 'the',\n",
       " 'area',\n",
       " ',',\n",
       " 'that',\n",
       " '.',\n",
       " 'Yet',\n",
       " ',',\n",
       " 'the',\n",
       " 'nation',\n",
       " 'is',\n",
       " 'still',\n",
       " 'quite',\n",
       " 'picturesque',\n",
       " 'and',\n",
       " 'tranquil',\n",
       " '.',\n",
       " 'People',\n",
       " 'of',\n",
       " 'Bangladesh',\n",
       " 'are',\n",
       " 'really',\n",
       " 'amicable',\n",
       " 'with',\n",
       " 'each',\n",
       " 'other',\n",
       " '.']"
      ]
     },
     "execution_count": 7,
     "metadata": {},
     "output_type": "execute_result"
    }
   ],
   "source": [
    "words = nltk.word_tokenize(sentence)\n",
    "words"
   ]
  },
  {
   "cell_type": "code",
   "execution_count": 9,
   "id": "a484671e",
   "metadata": {},
   "outputs": [
    {
     "data": {
      "text/plain": [
       "[('The', 'DT'),\n",
       " ('name', 'NN'),\n",
       " ('of', 'IN'),\n",
       " ('my', 'PRP$'),\n",
       " ('nation', 'NN'),\n",
       " ('is', 'VBZ'),\n",
       " ('Bangladesh', 'NNP'),\n",
       " ('.', '.'),\n",
       " ('Bangladesh', 'NNP'),\n",
       " ('is', 'VBZ'),\n",
       " ('a', 'DT'),\n",
       " ('little', 'JJ'),\n",
       " ('nation', 'NN'),\n",
       " ('with', 'IN'),\n",
       " ('a', 'DT'),\n",
       " ('sizable', 'JJ'),\n",
       " ('population', 'NN'),\n",
       " ('.', '.'),\n",
       " ('It', 'PRP'),\n",
       " ('is', 'VBZ'),\n",
       " ('a', 'DT'),\n",
       " ('South', 'JJ'),\n",
       " ('Asian', 'JJ'),\n",
       " ('nation', 'NN'),\n",
       " ('that', 'WDT'),\n",
       " ('is', 'VBZ'),\n",
       " ('moderately', 'RB'),\n",
       " ('developed', 'JJ'),\n",
       " ('.', '.'),\n",
       " ('We', 'PRP'),\n",
       " ('have', 'VBP'),\n",
       " ('a', 'DT'),\n",
       " ('thriving', 'VBG'),\n",
       " ('economy', 'NN'),\n",
       " ('that', 'WDT'),\n",
       " ('is', 'VBZ'),\n",
       " ('growing', 'VBG'),\n",
       " ('.', '.'),\n",
       " ('It', 'PRP'),\n",
       " ('is', 'VBZ'),\n",
       " ('147,570', 'CD'),\n",
       " ('square', 'JJ'),\n",
       " ('kilometres', 'NNS'),\n",
       " ('in', 'IN'),\n",
       " ('size', 'NN'),\n",
       " ('.', '.'),\n",
       " ('But', 'CC'),\n",
       " ('there', 'EX'),\n",
       " ('are', 'VBP'),\n",
       " ('164', 'CD'),\n",
       " ('million', 'CD'),\n",
       " ('people', 'NNS'),\n",
       " ('living', 'VBG'),\n",
       " ('there', 'RB'),\n",
       " ('.', '.'),\n",
       " ('More', 'JJR'),\n",
       " ('than', 'IN'),\n",
       " ('the', 'DT'),\n",
       " ('area', 'NN'),\n",
       " (',', ','),\n",
       " ('that', 'WDT'),\n",
       " ('.', '.'),\n",
       " ('Yet', 'CC'),\n",
       " (',', ','),\n",
       " ('the', 'DT'),\n",
       " ('nation', 'NN'),\n",
       " ('is', 'VBZ'),\n",
       " ('still', 'RB'),\n",
       " ('quite', 'RB'),\n",
       " ('picturesque', 'JJ'),\n",
       " ('and', 'CC'),\n",
       " ('tranquil', 'JJ'),\n",
       " ('.', '.'),\n",
       " ('People', 'NNS'),\n",
       " ('of', 'IN'),\n",
       " ('Bangladesh', 'NNP'),\n",
       " ('are', 'VBP'),\n",
       " ('really', 'RB'),\n",
       " ('amicable', 'JJ'),\n",
       " ('with', 'IN'),\n",
       " ('each', 'DT'),\n",
       " ('other', 'JJ'),\n",
       " ('.', '.')]"
      ]
     },
     "execution_count": 9,
     "metadata": {},
     "output_type": "execute_result"
    }
   ],
   "source": [
    "tag_elements = nltk.pos_tag(words)\n",
    "tag_elements"
   ]
  },
  {
   "cell_type": "code",
   "execution_count": 13,
   "id": "0dae1b80",
   "metadata": {},
   "outputs": [
    {
     "name": "stderr",
     "output_type": "stream",
     "text": [
      "[nltk_data] Downloading package maxent_ne_chunker to\n",
      "[nltk_data]     /home/dev/nltk_data...\n",
      "[nltk_data]   Package maxent_ne_chunker is already up-to-date!\n",
      "[nltk_data] Downloading package words to /home/dev/nltk_data...\n",
      "[nltk_data]   Unzipping corpora/words.zip.\n"
     ]
    },
    {
     "data": {
      "text/plain": [
       "True"
      ]
     },
     "execution_count": 13,
     "metadata": {},
     "output_type": "execute_result"
    }
   ],
   "source": [
    "nltk.download('maxent_ne_chunker')\n",
    "nltk.download('words')"
   ]
  },
  {
   "cell_type": "code",
   "execution_count": 16,
   "id": "aa5443c8",
   "metadata": {},
   "outputs": [],
   "source": [
    "nltk.ne_chunk(tag_elements).draw()"
   ]
  },
  {
   "cell_type": "code",
   "execution_count": null,
   "id": "66fcb985",
   "metadata": {},
   "outputs": [],
   "source": []
  }
 ],
 "metadata": {
  "kernelspec": {
   "display_name": "Python 3 (ipykernel)",
   "language": "python",
   "name": "python3"
  },
  "language_info": {
   "codemirror_mode": {
    "name": "ipython",
    "version": 3
   },
   "file_extension": ".py",
   "mimetype": "text/x-python",
   "name": "python",
   "nbconvert_exporter": "python",
   "pygments_lexer": "ipython3",
   "version": "3.11.3"
  }
 },
 "nbformat": 4,
 "nbformat_minor": 5
}
