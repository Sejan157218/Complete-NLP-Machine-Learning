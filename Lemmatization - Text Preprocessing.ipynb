{
 "cells": [
  {
   "cell_type": "code",
   "execution_count": 18,
   "id": "af191d5c",
   "metadata": {},
   "outputs": [
    {
     "name": "stderr",
     "output_type": "stream",
     "text": [
      "[nltk_data] Downloading package wordnet to /home/dev/nltk_data...\n",
      "[nltk_data]   Package wordnet is already up-to-date!\n",
      "[nltk_data] Downloading package omw-1.4 to /home/dev/nltk_data...\n",
      "[nltk_data]   Package omw-1.4 is already up-to-date!\n"
     ]
    }
   ],
   "source": [
    "## Q&A , chatbats, test summerization\n",
    "import nltk\n",
    "nltk.download('wordnet')\n",
    "nltk.download('omw-1.4')\n",
    "from nltk.stem import WordNetLemmatizer"
   ]
  },
  {
   "cell_type": "code",
   "execution_count": 19,
   "id": "8d402d46",
   "metadata": {},
   "outputs": [],
   "source": [
    "lemmatizer = WordNetLemmatizer()"
   ]
  },
  {
   "cell_type": "code",
   "execution_count": 20,
   "id": "1a97d9a2",
   "metadata": {},
   "outputs": [],
   "source": [
    "words = ['eating', 'eat','eaten', 'going', 'goes', 'history', 'finaly', 'writing','fairly']\n",
    "pos_arr = ['n','v','a','r']"
   ]
  },
  {
   "cell_type": "code",
   "execution_count": 21,
   "id": "7f721ac8",
   "metadata": {},
   "outputs": [
    {
     "name": "stdout",
     "output_type": "stream",
     "text": [
      "-------- n-----------\n",
      "eating ------> eating\n",
      "eat ------> eat\n",
      "eaten ------> eaten\n",
      "going ------> going\n",
      "goes ------> go\n",
      "history ------> history\n",
      "finaly ------> finaly\n",
      "writing ------> writing\n",
      "fairly ------> fairly\n",
      "-------- v-----------\n",
      "eating ------> eat\n",
      "eat ------> eat\n",
      "eaten ------> eat\n",
      "going ------> go\n",
      "goes ------> go\n",
      "history ------> history\n",
      "finaly ------> finaly\n",
      "writing ------> write\n",
      "fairly ------> fairly\n",
      "-------- a-----------\n",
      "eating ------> eating\n",
      "eat ------> eat\n",
      "eaten ------> eaten\n",
      "going ------> going\n",
      "goes ------> goes\n",
      "history ------> history\n",
      "finaly ------> finaly\n",
      "writing ------> writing\n",
      "fairly ------> fairly\n",
      "-------- r-----------\n",
      "eating ------> eating\n",
      "eat ------> eat\n",
      "eaten ------> eaten\n",
      "going ------> going\n",
      "goes ------> goes\n",
      "history ------> history\n",
      "finaly ------> finaly\n",
      "writing ------> writing\n",
      "fairly ------> fairly\n"
     ]
    }
   ],
   "source": [
    "for pos in pos_arr:\n",
    "    print(f\"-------- {pos}-----------\")\n",
    "    for word in words:\n",
    "        print(word + ' ------> '+ lemmatizer.lemmatize(word, pos=pos))"
   ]
  },
  {
   "cell_type": "code",
   "execution_count": null,
   "id": "41fa69d5",
   "metadata": {},
   "outputs": [],
   "source": []
  }
 ],
 "metadata": {
  "kernelspec": {
   "display_name": "Python 3 (ipykernel)",
   "language": "python",
   "name": "python3"
  },
  "language_info": {
   "codemirror_mode": {
    "name": "ipython",
    "version": 3
   },
   "file_extension": ".py",
   "mimetype": "text/x-python",
   "name": "python",
   "nbconvert_exporter": "python",
   "pygments_lexer": "ipython3",
   "version": "3.11.3"
  }
 },
 "nbformat": 4,
 "nbformat_minor": 5
}
