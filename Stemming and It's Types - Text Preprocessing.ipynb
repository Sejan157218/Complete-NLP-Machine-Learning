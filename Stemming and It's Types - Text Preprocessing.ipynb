{
 "cells": [
  {
   "cell_type": "markdown",
   "id": "b6d380cd",
   "metadata": {},
   "source": [
    "# PorterStemmer"
   ]
  },
  {
   "cell_type": "code",
   "execution_count": 1,
   "id": "a480a073",
   "metadata": {},
   "outputs": [],
   "source": [
    "from nltk.stem import PorterStemmer"
   ]
  },
  {
   "cell_type": "code",
   "execution_count": 2,
   "id": "6277222f",
   "metadata": {},
   "outputs": [],
   "source": [
    "words = ['words', 'goes', 'going', 'eats', 'eating']"
   ]
  },
  {
   "cell_type": "code",
   "execution_count": 8,
   "id": "79b46e9a",
   "metadata": {},
   "outputs": [],
   "source": [
    "stemmer = PorterStemmer()"
   ]
  },
  {
   "cell_type": "code",
   "execution_count": 10,
   "id": "6950abdc",
   "metadata": {},
   "outputs": [
    {
     "name": "stdout",
     "output_type": "stream",
     "text": [
      "words --------> word\n",
      "goes --------> goe\n",
      "going --------> go\n",
      "eats --------> eat\n",
      "eating --------> eat\n"
     ]
    }
   ],
   "source": [
    "for word in words:\n",
    "    print(word +' --------> ' + stemmer.stem(word))"
   ]
  },
  {
   "cell_type": "markdown",
   "id": "eda3c9ab",
   "metadata": {},
   "source": [
    "# RegexpStemmer"
   ]
  },
  {
   "cell_type": "code",
   "execution_count": 11,
   "id": "4a91a485",
   "metadata": {},
   "outputs": [],
   "source": [
    "from nltk.stem import RegexpStemmer"
   ]
  },
  {
   "cell_type": "code",
   "execution_count": 13,
   "id": "4db50193",
   "metadata": {},
   "outputs": [],
   "source": [
    "reg_stemmer = RegexpStemmer('ing$|s$|e$|able$', min=4)"
   ]
  },
  {
   "cell_type": "code",
   "execution_count": 18,
   "id": "0b4ac155",
   "metadata": {},
   "outputs": [
    {
     "data": {
      "text/plain": [
       "('eat', 'goe', 'ingeat')"
      ]
     },
     "execution_count": 18,
     "metadata": {},
     "output_type": "execute_result"
    }
   ],
   "source": [
    "reg_stemmer.stem('eating'), reg_stemmer.stem('goes'), reg_stemmer.stem('ingeating')"
   ]
  },
  {
   "cell_type": "code",
   "execution_count": 21,
   "id": "ca6c0cc2",
   "metadata": {},
   "outputs": [],
   "source": [
    "reg_stemmer_change_regex = RegexpStemmer('ing|es$|able$', min=4)"
   ]
  },
  {
   "cell_type": "code",
   "execution_count": 22,
   "id": "78e646fe",
   "metadata": {},
   "outputs": [
    {
     "data": {
      "text/plain": [
       "('eat', 'goe', 'ingeat')"
      ]
     },
     "execution_count": 22,
     "metadata": {},
     "output_type": "execute_result"
    }
   ],
   "source": [
    "reg_stemmer.stem('eating'), reg_stemmer.stem('goes'), reg_stemmer.stem('ingeating')"
   ]
  },
  {
   "cell_type": "markdown",
   "id": "30ff5700",
   "metadata": {},
   "source": [
    "# SnowballStemmer"
   ]
  },
  {
   "cell_type": "code",
   "execution_count": 23,
   "id": "60560d56",
   "metadata": {},
   "outputs": [],
   "source": [
    "from nltk.stem import SnowballStemmer"
   ]
  },
  {
   "cell_type": "code",
   "execution_count": 24,
   "id": "ee2a0ccb",
   "metadata": {},
   "outputs": [],
   "source": [
    "snowball_stemmer = SnowballStemmer('english')"
   ]
  },
  {
   "cell_type": "code",
   "execution_count": 26,
   "id": "7dd731a0",
   "metadata": {},
   "outputs": [
    {
     "data": {
      "text/plain": [
       "'fair'"
      ]
     },
     "execution_count": 26,
     "metadata": {},
     "output_type": "execute_result"
    }
   ],
   "source": [
    "snowball_stemmer.stem('fairly')"
   ]
  },
  {
   "cell_type": "code",
   "execution_count": 27,
   "id": "69048532",
   "metadata": {},
   "outputs": [
    {
     "data": {
      "text/plain": [
       "'fairli'"
      ]
     },
     "execution_count": 27,
     "metadata": {},
     "output_type": "execute_result"
    }
   ],
   "source": [
    "# porter stemmer\n",
    "stemmer.stem('fairly')"
   ]
  },
  {
   "cell_type": "code",
   "execution_count": null,
   "id": "8b0c23ff",
   "metadata": {},
   "outputs": [],
   "source": []
  }
 ],
 "metadata": {
  "kernelspec": {
   "display_name": "Python 3 (ipykernel)",
   "language": "python",
   "name": "python3"
  },
  "language_info": {
   "codemirror_mode": {
    "name": "ipython",
    "version": 3
   },
   "file_extension": ".py",
   "mimetype": "text/x-python",
   "name": "python",
   "nbconvert_exporter": "python",
   "pygments_lexer": "ipython3",
   "version": "3.11.3"
  }
 },
 "nbformat": 4,
 "nbformat_minor": 5
}
